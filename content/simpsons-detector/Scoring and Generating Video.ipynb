{
 "cells": [
  {
   "cell_type": "markdown",
   "metadata": {},
   "source": [
    "# Simpsons Detector\n",
    "## Creating dataset\n",
    "\n",
    "The following Python notebook refers the [simpsons detector post](http://zachmoshe.com).\n",
    "\n",
    "This notebook shows how to generate a tagged video given a trained model.\n",
    "\n",
    "Some classes are from my `general` and `simpsons` modules. They are available in [my github repo](https://github.com/zachmoshe/datalab)"
   ]
  },
  {
   "cell_type": "code",
   "execution_count": 1,
   "metadata": {
    "collapsed": false
   },
   "outputs": [
    {
     "name": "stderr",
     "output_type": "stream",
     "text": [
      "Using TensorFlow backend.\n"
     ]
    }
   ],
   "source": [
    "import numpy as np\n",
    "import matplotlib.pyplot as plt\n",
    "import matplotlib\n",
    "import keras\n",
    "import sklearn\n",
    "import pickle\n",
    "\n",
    "import sys\n",
    "import logging \n",
    "logging.basicConfig(stream=sys.stdout, level=logging.INFO)\n",
    "logging.getLogger(\"py.warnings\").setLevel(logging.ERROR)\n",
    "\n",
    "%matplotlib inline\n",
    "\n",
    "# for auto-reloading external modules\n",
    "# see http://stackoverflow.com/questions/1907993/autoreload-of-modules-in-ipython\n",
    "%load_ext autoreload\n",
    "%autoreload "
   ]
  },
  {
   "cell_type": "code",
   "execution_count": 2,
   "metadata": {
    "collapsed": false
   },
   "outputs": [],
   "source": [
    "import general"
   ]
  },
  {
   "cell_type": "code",
   "execution_count": 3,
   "metadata": {
    "collapsed": false
   },
   "outputs": [],
   "source": [
    "import simpsons"
   ]
  },
  {
   "cell_type": "code",
   "execution_count": 4,
   "metadata": {
    "collapsed": true
   },
   "outputs": [],
   "source": [
    "BASE_PATH = \"/Users/zach/proj/datalab-data/simpsons/\""
   ]
  },
  {
   "cell_type": "code",
   "execution_count": 5,
   "metadata": {
    "collapsed": true
   },
   "outputs": [],
   "source": [
    "config = dict(\n",
    "    training_img_shape=(202,360),     # 1/4 of HD image\n",
    "    test_img_shape=(202,360),         # ...\n",
    ")"
   ]
  },
  {
   "cell_type": "markdown",
   "metadata": {},
   "source": [
    "# Load model and thresholds"
   ]
  },
  {
   "cell_type": "code",
   "execution_count": 7,
   "metadata": {
    "collapsed": false
   },
   "outputs": [],
   "source": [
    "import pickle\n",
    "tmp = pickle.load(open(BASE_PATH+\"model_and_thresholds.pickle\", \"rb\"))\n",
    "model, preprocess_pipeline, thresholds = tmp[\"model\"], tmp[\"preprocess_pipeline\"], tmp[\"thresholds\"]"
   ]
  },
  {
   "cell_type": "markdown",
   "metadata": {},
   "source": [
    "# Load datasets"
   ]
  },
  {
   "cell_type": "code",
   "execution_count": 6,
   "metadata": {
    "collapsed": false
   },
   "outputs": [
    {
     "name": "stdout",
     "output_type": "stream",
     "text": [
      "train images by char:  [ 91.  79.  64.  37.]\n",
      "train_dev images by char:  [ 30.  26.  22.  12.]\n",
      "dev  images by char:  [  74.  101.   66.   65.]\n",
      "test images by char:  [  73.  102.   64.   64.]\n",
      "train\n",
      "  - X: (474, 200, 200, 3)\n",
      "  - y: (474, 4)\n",
      "train_dev\n",
      "  - X: (158, 200, 200, 3)\n",
      "  - y: (158, 4)\n",
      "dev\n",
      "  - X: (351, 202, 360, 3)\n",
      "  - y: (351, 4)\n",
      "test\n",
      "  - X: (351, 202, 360, 3)\n",
      "  - y: (351, 4)\n"
     ]
    }
   ],
   "source": [
    "import gzip\n",
    "import pickle\n",
    "\n",
    "with gzip.GzipFile(BASE_PATH+\"dataset.pickle.zip\", \"r\") as f:\n",
    "    data = pickle.load(f)\n",
    "\n",
    "print(\"train images by char: \", data.train.y.sum(axis=0))\n",
    "print(\"train_dev images by char: \", data.train_dev.y.sum(axis=0))\n",
    "print(\"dev  images by char: \", data.dev.y.sum(axis=0))\n",
    "print(\"test images by char: \", data.test.y.sum(axis=0))\n",
    "data.show()"
   ]
  },
  {
   "cell_type": "markdown",
   "metadata": {},
   "source": [
    "# Generate a Tagged Video"
   ]
  },
  {
   "cell_type": "code",
   "execution_count": 6,
   "metadata": {
    "collapsed": false
   },
   "outputs": [],
   "source": [
    "tagger = simpsons.video.SimpsonsVideoTagger(model, thresholds, preprocess_pipeline=preprocess_pipeline)"
   ]
  },
  {
   "cell_type": "code",
   "execution_count": 7,
   "metadata": {
    "collapsed": false
   },
   "outputs": [],
   "source": [
    "clip = tagger.tag(BASE_PATH+\"preprocessing/test/full-episodes/<<episode filename>>\", \n",
    "                  extractor_params=dict(frames_per_second=4))"
   ]
  },
  {
   "cell_type": "code",
   "execution_count": 8,
   "metadata": {
    "collapsed": false
   },
   "outputs": [],
   "source": [
    "clip.write_videofile(BASE_PATH+\"video/video_tagged.mp4\", fps=24)"
   ]
  }
 ],
 "metadata": {
  "anaconda-cloud": {},
  "kernelspec": {
   "display_name": "Python [default]",
   "language": "python",
   "name": "python3"
  },
  "language_info": {
   "codemirror_mode": {
    "name": "ipython",
    "version": 3
   },
   "file_extension": ".py",
   "mimetype": "text/x-python",
   "name": "python",
   "nbconvert_exporter": "python",
   "pygments_lexer": "ipython3",
   "version": "3.5.2"
  }
 },
 "nbformat": 4,
 "nbformat_minor": 2
}
